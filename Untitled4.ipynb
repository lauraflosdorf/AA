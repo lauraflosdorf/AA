{
 "cells": [
  {
   "cell_type": "markdown",
   "id": "ad878ec7",
   "metadata": {},
   "source": [
    "## KPI: Utilization "
   ]
  },
  {
   "cell_type": "code",
   "execution_count": 101,
   "id": "12e25a1e",
   "metadata": {},
   "outputs": [],
   "source": [
    "import pandas as pd\n",
    "import numpy as np\n",
    "from datetime import datetime"
   ]
  },
  {
   "cell_type": "code",
   "execution_count": 102,
   "id": "5e233481",
   "metadata": {},
   "outputs": [
    {
     "name": "stdout",
     "output_type": "stream",
     "text": [
      "<class 'pandas.core.frame.DataFrame'>\n",
      "RangeIndex: 65035 entries, 0 to 65034\n",
      "Data columns (total 15 columns):\n",
      " #   Column              Non-Null Count  Dtype  \n",
      "---  ------              --------------  -----  \n",
      " 0   id                  65035 non-null  object \n",
      " 1   connectionTime      65035 non-null  object \n",
      " 2   disconnectTime      65035 non-null  object \n",
      " 3   doneChargingTime    60948 non-null  object \n",
      " 4   kWhDelivered        65035 non-null  float64\n",
      " 5   siteID              65035 non-null  int64  \n",
      " 6   spaceID             65035 non-null  object \n",
      " 7   userID              65035 non-null  int64  \n",
      " 8   WhPerMile           47820 non-null  float64\n",
      " 9   kWhRequested        47820 non-null  float64\n",
      " 10  milesRequested      47820 non-null  float64\n",
      " 11  minutesAvailable    47820 non-null  float64\n",
      " 12  modifiedAt          47820 non-null  object \n",
      " 13  paymentRequired     65035 non-null  bool   \n",
      " 14  requestedDeparture  47820 non-null  object \n",
      "dtypes: bool(1), float64(5), int64(2), object(7)\n",
      "memory usage: 7.0+ MB\n"
     ]
    }
   ],
   "source": [
    "charging_data = pd.read_csv('charging_stations_clean.csv')\n",
    "charging_data.info()"
   ]
  },
  {
   "cell_type": "code",
   "execution_count": 103,
   "id": "90a7305c",
   "metadata": {},
   "outputs": [],
   "source": [
    "charging_data['connectionTime'] = pd.to_datetime(charging_data['connectionTime'], utc=True).dt.tz_convert('America/Los_Angeles')\n",
    "charging_data['disconnectTime'] = pd.to_datetime(charging_data['disconnectTime'], utc=True).dt.tz_convert('America/Los_Angeles')\n",
    "charging_data['doneChargingTime'] = pd.to_datetime(charging_data['doneChargingTime'], utc=True).dt.tz_convert('America/Los_Angeles')"
   ]
  },
  {
   "cell_type": "code",
   "execution_count": 104,
   "id": "4c42f6b6",
   "metadata": {},
   "outputs": [
    {
     "data": {
      "text/plain": [
       "52"
      ]
     },
     "execution_count": 104,
     "metadata": {},
     "output_type": "execute_result"
    }
   ],
   "source": [
    "len(charging_data[charging_data[\"siteID\"] == 1][\"spaceID\"].unique())"
   ]
  },
  {
   "cell_type": "code",
   "execution_count": 105,
   "id": "31a03ac9",
   "metadata": {},
   "outputs": [
    {
     "data": {
      "text/plain": [
       "55"
      ]
     },
     "execution_count": 105,
     "metadata": {},
     "output_type": "execute_result"
    }
   ],
   "source": [
    "len(charging_data[charging_data[\"siteID\"] == 2][\"spaceID\"].unique())"
   ]
  },
  {
   "cell_type": "markdown",
   "id": "16b49b32",
   "metadata": {},
   "source": [
    "Number charging spaces at site 1: 52; \n",
    "Number charging spaces at site 2: 55"
   ]
  },
  {
   "cell_type": "code",
   "execution_count": 106,
   "id": "f81ec300",
   "metadata": {},
   "outputs": [],
   "source": [
    "def charges_at_time(time, df):\n",
    "    return df[(df['connectionTime'] <= time) & (time <= df['disconnectTime'])]\n",
    "\n",
    "def utilization(time, site, df):\n",
    "    charges_at_time_x = charges_at_time(time, df)\n",
    "    charging_sessions = len(charges_at_time_x[charges_at_time_x[\"siteID\"] == site])\n",
    "    \n",
    "    if site == 1:\n",
    "        return charging_sessions / 52\n",
    "    elif site == 2:\n",
    "        return charging_sessions / 55\n",
    "    else:\n",
    "        return 0 \n",
    "    \n",
    "def utilization_row(row):\n",
    "    return utilization(row['Time'], row['siteID'], charging_data)"
   ]
  },
  {
   "cell_type": "code",
   "execution_count": 107,
   "id": "445f5e5b",
   "metadata": {},
   "outputs": [],
   "source": [
    "start_time = charging_data['connectionTime'].min().floor(\"H\")\n",
    "end_time = charging_data['disconnectTime'].max().floor(\"H\")\n",
    "\n",
    "#Date_range hat dann stündliche Werte vom Start- bis zum Endzeitpunkt (siehe unten)\n",
    "date_range = pd.date_range(start=start_time, end=end_time, freq='H').tz_convert('America/Los_Angeles')\n",
    "\n",
    "utilization_site1_df = pd.DataFrame(columns=['Time'])\n",
    "\n",
    "utilization_site1_df['Time'] = date_range\n",
    "utilization_site1_df['siteID'] = 1\n"
   ]
  },
  {
   "cell_type": "code",
   "execution_count": 108,
   "id": "cb7d59f1",
   "metadata": {},
   "outputs": [
    {
     "data": {
      "text/html": [
       "<div>\n",
       "<style scoped>\n",
       "    .dataframe tbody tr th:only-of-type {\n",
       "        vertical-align: middle;\n",
       "    }\n",
       "\n",
       "    .dataframe tbody tr th {\n",
       "        vertical-align: top;\n",
       "    }\n",
       "\n",
       "    .dataframe thead th {\n",
       "        text-align: right;\n",
       "    }\n",
       "</style>\n",
       "<table border=\"1\" class=\"dataframe\">\n",
       "  <thead>\n",
       "    <tr style=\"text-align: right;\">\n",
       "      <th></th>\n",
       "      <th>Time</th>\n",
       "      <th>siteID</th>\n",
       "    </tr>\n",
       "  </thead>\n",
       "  <tbody>\n",
       "    <tr>\n",
       "      <th>0</th>\n",
       "      <td>2018-04-25 04:00:00-07:00</td>\n",
       "      <td>1</td>\n",
       "    </tr>\n",
       "    <tr>\n",
       "      <th>1</th>\n",
       "      <td>2018-04-25 05:00:00-07:00</td>\n",
       "      <td>1</td>\n",
       "    </tr>\n",
       "    <tr>\n",
       "      <th>2</th>\n",
       "      <td>2018-04-25 06:00:00-07:00</td>\n",
       "      <td>1</td>\n",
       "    </tr>\n",
       "    <tr>\n",
       "      <th>3</th>\n",
       "      <td>2018-04-25 07:00:00-07:00</td>\n",
       "      <td>1</td>\n",
       "    </tr>\n",
       "    <tr>\n",
       "      <th>4</th>\n",
       "      <td>2018-04-25 08:00:00-07:00</td>\n",
       "      <td>1</td>\n",
       "    </tr>\n",
       "    <tr>\n",
       "      <th>...</th>\n",
       "      <td>...</td>\n",
       "      <td>...</td>\n",
       "    </tr>\n",
       "    <tr>\n",
       "      <th>29711</th>\n",
       "      <td>2021-09-14 03:00:00-07:00</td>\n",
       "      <td>1</td>\n",
       "    </tr>\n",
       "    <tr>\n",
       "      <th>29712</th>\n",
       "      <td>2021-09-14 04:00:00-07:00</td>\n",
       "      <td>1</td>\n",
       "    </tr>\n",
       "    <tr>\n",
       "      <th>29713</th>\n",
       "      <td>2021-09-14 05:00:00-07:00</td>\n",
       "      <td>1</td>\n",
       "    </tr>\n",
       "    <tr>\n",
       "      <th>29714</th>\n",
       "      <td>2021-09-14 06:00:00-07:00</td>\n",
       "      <td>1</td>\n",
       "    </tr>\n",
       "    <tr>\n",
       "      <th>29715</th>\n",
       "      <td>2021-09-14 07:00:00-07:00</td>\n",
       "      <td>1</td>\n",
       "    </tr>\n",
       "  </tbody>\n",
       "</table>\n",
       "<p>29716 rows × 2 columns</p>\n",
       "</div>"
      ],
      "text/plain": [
       "                           Time  siteID\n",
       "0     2018-04-25 04:00:00-07:00       1\n",
       "1     2018-04-25 05:00:00-07:00       1\n",
       "2     2018-04-25 06:00:00-07:00       1\n",
       "3     2018-04-25 07:00:00-07:00       1\n",
       "4     2018-04-25 08:00:00-07:00       1\n",
       "...                         ...     ...\n",
       "29711 2021-09-14 03:00:00-07:00       1\n",
       "29712 2021-09-14 04:00:00-07:00       1\n",
       "29713 2021-09-14 05:00:00-07:00       1\n",
       "29714 2021-09-14 06:00:00-07:00       1\n",
       "29715 2021-09-14 07:00:00-07:00       1\n",
       "\n",
       "[29716 rows x 2 columns]"
      ]
     },
     "execution_count": 108,
     "metadata": {},
     "output_type": "execute_result"
    }
   ],
   "source": [
    "utilization_site1_df"
   ]
  },
  {
   "cell_type": "code",
   "execution_count": 109,
   "id": "6c766e20",
   "metadata": {},
   "outputs": [],
   "source": [
    "utilization_site1_df['utilization'] = utilization_site1_df.apply(utilization_row, axis=1)"
   ]
  },
  {
   "cell_type": "code",
   "execution_count": 110,
   "id": "74f9aa42",
   "metadata": {},
   "outputs": [
    {
     "data": {
      "text/html": [
       "<div>\n",
       "<style scoped>\n",
       "    .dataframe tbody tr th:only-of-type {\n",
       "        vertical-align: middle;\n",
       "    }\n",
       "\n",
       "    .dataframe tbody tr th {\n",
       "        vertical-align: top;\n",
       "    }\n",
       "\n",
       "    .dataframe thead th {\n",
       "        text-align: right;\n",
       "    }\n",
       "</style>\n",
       "<table border=\"1\" class=\"dataframe\">\n",
       "  <thead>\n",
       "    <tr style=\"text-align: right;\">\n",
       "      <th></th>\n",
       "      <th>Time</th>\n",
       "      <th>siteID</th>\n",
       "      <th>utilization</th>\n",
       "    </tr>\n",
       "  </thead>\n",
       "  <tbody>\n",
       "    <tr>\n",
       "      <th>0</th>\n",
       "      <td>2018-04-25 04:00:00-07:00</td>\n",
       "      <td>1</td>\n",
       "      <td>0.000000</td>\n",
       "    </tr>\n",
       "    <tr>\n",
       "      <th>1</th>\n",
       "      <td>2018-04-25 05:00:00-07:00</td>\n",
       "      <td>1</td>\n",
       "      <td>0.000000</td>\n",
       "    </tr>\n",
       "    <tr>\n",
       "      <th>2</th>\n",
       "      <td>2018-04-25 06:00:00-07:00</td>\n",
       "      <td>1</td>\n",
       "      <td>0.000000</td>\n",
       "    </tr>\n",
       "    <tr>\n",
       "      <th>3</th>\n",
       "      <td>2018-04-25 07:00:00-07:00</td>\n",
       "      <td>1</td>\n",
       "      <td>0.000000</td>\n",
       "    </tr>\n",
       "    <tr>\n",
       "      <th>4</th>\n",
       "      <td>2018-04-25 08:00:00-07:00</td>\n",
       "      <td>1</td>\n",
       "      <td>0.000000</td>\n",
       "    </tr>\n",
       "    <tr>\n",
       "      <th>...</th>\n",
       "      <td>...</td>\n",
       "      <td>...</td>\n",
       "      <td>...</td>\n",
       "    </tr>\n",
       "    <tr>\n",
       "      <th>29711</th>\n",
       "      <td>2021-09-14 03:00:00-07:00</td>\n",
       "      <td>1</td>\n",
       "      <td>0.019231</td>\n",
       "    </tr>\n",
       "    <tr>\n",
       "      <th>29712</th>\n",
       "      <td>2021-09-14 04:00:00-07:00</td>\n",
       "      <td>1</td>\n",
       "      <td>0.019231</td>\n",
       "    </tr>\n",
       "    <tr>\n",
       "      <th>29713</th>\n",
       "      <td>2021-09-14 05:00:00-07:00</td>\n",
       "      <td>1</td>\n",
       "      <td>0.019231</td>\n",
       "    </tr>\n",
       "    <tr>\n",
       "      <th>29714</th>\n",
       "      <td>2021-09-14 06:00:00-07:00</td>\n",
       "      <td>1</td>\n",
       "      <td>0.019231</td>\n",
       "    </tr>\n",
       "    <tr>\n",
       "      <th>29715</th>\n",
       "      <td>2021-09-14 07:00:00-07:00</td>\n",
       "      <td>1</td>\n",
       "      <td>0.019231</td>\n",
       "    </tr>\n",
       "  </tbody>\n",
       "</table>\n",
       "<p>29716 rows × 3 columns</p>\n",
       "</div>"
      ],
      "text/plain": [
       "                           Time  siteID  utilization\n",
       "0     2018-04-25 04:00:00-07:00       1     0.000000\n",
       "1     2018-04-25 05:00:00-07:00       1     0.000000\n",
       "2     2018-04-25 06:00:00-07:00       1     0.000000\n",
       "3     2018-04-25 07:00:00-07:00       1     0.000000\n",
       "4     2018-04-25 08:00:00-07:00       1     0.000000\n",
       "...                         ...     ...          ...\n",
       "29711 2021-09-14 03:00:00-07:00       1     0.019231\n",
       "29712 2021-09-14 04:00:00-07:00       1     0.019231\n",
       "29713 2021-09-14 05:00:00-07:00       1     0.019231\n",
       "29714 2021-09-14 06:00:00-07:00       1     0.019231\n",
       "29715 2021-09-14 07:00:00-07:00       1     0.019231\n",
       "\n",
       "[29716 rows x 3 columns]"
      ]
     },
     "execution_count": 110,
     "metadata": {},
     "output_type": "execute_result"
    }
   ],
   "source": [
    "utilization_site1_df"
   ]
  },
  {
   "cell_type": "code",
   "execution_count": 111,
   "id": "59fb343c",
   "metadata": {},
   "outputs": [],
   "source": [
    "start_time = charging_data['connectionTime'].min().floor(\"H\")\n",
    "end_time = charging_data['disconnectTime'].max().floor(\"H\")\n",
    "\n",
    "date_range = pd.date_range(start=start_time, end=end_time, freq='H').tz_convert('America/Los_Angeles')\n",
    "\n",
    "utilization_site2_df = pd.DataFrame(columns=['Time'])\n",
    "\n",
    "utilization_site2_df['Time'] = date_range\n",
    "utilization_site2_df['siteID'] = 2"
   ]
  },
  {
   "cell_type": "code",
   "execution_count": 112,
   "id": "bda7a6df",
   "metadata": {},
   "outputs": [],
   "source": [
    "utilization_site2_df['utilization'] = utilization_site2_df.apply(utilization_row, axis=1)"
   ]
  },
  {
   "cell_type": "code",
   "execution_count": 113,
   "id": "e82101c3",
   "metadata": {},
   "outputs": [
    {
     "data": {
      "text/html": [
       "<div>\n",
       "<style scoped>\n",
       "    .dataframe tbody tr th:only-of-type {\n",
       "        vertical-align: middle;\n",
       "    }\n",
       "\n",
       "    .dataframe tbody tr th {\n",
       "        vertical-align: top;\n",
       "    }\n",
       "\n",
       "    .dataframe thead th {\n",
       "        text-align: right;\n",
       "    }\n",
       "</style>\n",
       "<table border=\"1\" class=\"dataframe\">\n",
       "  <thead>\n",
       "    <tr style=\"text-align: right;\">\n",
       "      <th></th>\n",
       "      <th>Time</th>\n",
       "      <th>siteID</th>\n",
       "      <th>utilization</th>\n",
       "    </tr>\n",
       "  </thead>\n",
       "  <tbody>\n",
       "    <tr>\n",
       "      <th>0</th>\n",
       "      <td>2018-04-25 04:00:00-07:00</td>\n",
       "      <td>2</td>\n",
       "      <td>0.000000</td>\n",
       "    </tr>\n",
       "    <tr>\n",
       "      <th>1</th>\n",
       "      <td>2018-04-25 05:00:00-07:00</td>\n",
       "      <td>2</td>\n",
       "      <td>0.018182</td>\n",
       "    </tr>\n",
       "    <tr>\n",
       "      <th>2</th>\n",
       "      <td>2018-04-25 06:00:00-07:00</td>\n",
       "      <td>2</td>\n",
       "      <td>0.018182</td>\n",
       "    </tr>\n",
       "    <tr>\n",
       "      <th>3</th>\n",
       "      <td>2018-04-25 07:00:00-07:00</td>\n",
       "      <td>2</td>\n",
       "      <td>0.036364</td>\n",
       "    </tr>\n",
       "    <tr>\n",
       "      <th>4</th>\n",
       "      <td>2018-04-25 08:00:00-07:00</td>\n",
       "      <td>2</td>\n",
       "      <td>0.127273</td>\n",
       "    </tr>\n",
       "    <tr>\n",
       "      <th>...</th>\n",
       "      <td>...</td>\n",
       "      <td>...</td>\n",
       "      <td>...</td>\n",
       "    </tr>\n",
       "    <tr>\n",
       "      <th>29711</th>\n",
       "      <td>2021-09-14 03:00:00-07:00</td>\n",
       "      <td>2</td>\n",
       "      <td>0.000000</td>\n",
       "    </tr>\n",
       "    <tr>\n",
       "      <th>29712</th>\n",
       "      <td>2021-09-14 04:00:00-07:00</td>\n",
       "      <td>2</td>\n",
       "      <td>0.000000</td>\n",
       "    </tr>\n",
       "    <tr>\n",
       "      <th>29713</th>\n",
       "      <td>2021-09-14 05:00:00-07:00</td>\n",
       "      <td>2</td>\n",
       "      <td>0.000000</td>\n",
       "    </tr>\n",
       "    <tr>\n",
       "      <th>29714</th>\n",
       "      <td>2021-09-14 06:00:00-07:00</td>\n",
       "      <td>2</td>\n",
       "      <td>0.000000</td>\n",
       "    </tr>\n",
       "    <tr>\n",
       "      <th>29715</th>\n",
       "      <td>2021-09-14 07:00:00-07:00</td>\n",
       "      <td>2</td>\n",
       "      <td>0.000000</td>\n",
       "    </tr>\n",
       "  </tbody>\n",
       "</table>\n",
       "<p>29716 rows × 3 columns</p>\n",
       "</div>"
      ],
      "text/plain": [
       "                           Time  siteID  utilization\n",
       "0     2018-04-25 04:00:00-07:00       2     0.000000\n",
       "1     2018-04-25 05:00:00-07:00       2     0.018182\n",
       "2     2018-04-25 06:00:00-07:00       2     0.018182\n",
       "3     2018-04-25 07:00:00-07:00       2     0.036364\n",
       "4     2018-04-25 08:00:00-07:00       2     0.127273\n",
       "...                         ...     ...          ...\n",
       "29711 2021-09-14 03:00:00-07:00       2     0.000000\n",
       "29712 2021-09-14 04:00:00-07:00       2     0.000000\n",
       "29713 2021-09-14 05:00:00-07:00       2     0.000000\n",
       "29714 2021-09-14 06:00:00-07:00       2     0.000000\n",
       "29715 2021-09-14 07:00:00-07:00       2     0.000000\n",
       "\n",
       "[29716 rows x 3 columns]"
      ]
     },
     "execution_count": 113,
     "metadata": {},
     "output_type": "execute_result"
    }
   ],
   "source": [
    "utilization_site2_df"
   ]
  },
  {
   "cell_type": "code",
   "execution_count": 114,
   "id": "31d82f22",
   "metadata": {},
   "outputs": [],
   "source": [
    "utilization_df = pd.concat([utilization_site1_df,utilization_site2_df], ignore_index=True)\n",
    "utilization_df.sort_values(inplace=True, by=\"Time\")"
   ]
  },
  {
   "cell_type": "code",
   "execution_count": 115,
   "id": "936cb050",
   "metadata": {},
   "outputs": [
    {
     "data": {
      "text/html": [
       "<div>\n",
       "<style scoped>\n",
       "    .dataframe tbody tr th:only-of-type {\n",
       "        vertical-align: middle;\n",
       "    }\n",
       "\n",
       "    .dataframe tbody tr th {\n",
       "        vertical-align: top;\n",
       "    }\n",
       "\n",
       "    .dataframe thead th {\n",
       "        text-align: right;\n",
       "    }\n",
       "</style>\n",
       "<table border=\"1\" class=\"dataframe\">\n",
       "  <thead>\n",
       "    <tr style=\"text-align: right;\">\n",
       "      <th></th>\n",
       "      <th>Time</th>\n",
       "      <th>siteID</th>\n",
       "      <th>utilization</th>\n",
       "    </tr>\n",
       "  </thead>\n",
       "  <tbody>\n",
       "    <tr>\n",
       "      <th>0</th>\n",
       "      <td>2018-04-25 04:00:00-07:00</td>\n",
       "      <td>1</td>\n",
       "      <td>0.000000</td>\n",
       "    </tr>\n",
       "    <tr>\n",
       "      <th>29716</th>\n",
       "      <td>2018-04-25 04:00:00-07:00</td>\n",
       "      <td>2</td>\n",
       "      <td>0.000000</td>\n",
       "    </tr>\n",
       "    <tr>\n",
       "      <th>1</th>\n",
       "      <td>2018-04-25 05:00:00-07:00</td>\n",
       "      <td>1</td>\n",
       "      <td>0.000000</td>\n",
       "    </tr>\n",
       "    <tr>\n",
       "      <th>29717</th>\n",
       "      <td>2018-04-25 05:00:00-07:00</td>\n",
       "      <td>2</td>\n",
       "      <td>0.018182</td>\n",
       "    </tr>\n",
       "    <tr>\n",
       "      <th>2</th>\n",
       "      <td>2018-04-25 06:00:00-07:00</td>\n",
       "      <td>1</td>\n",
       "      <td>0.000000</td>\n",
       "    </tr>\n",
       "    <tr>\n",
       "      <th>...</th>\n",
       "      <td>...</td>\n",
       "      <td>...</td>\n",
       "      <td>...</td>\n",
       "    </tr>\n",
       "    <tr>\n",
       "      <th>29713</th>\n",
       "      <td>2021-09-14 05:00:00-07:00</td>\n",
       "      <td>1</td>\n",
       "      <td>0.019231</td>\n",
       "    </tr>\n",
       "    <tr>\n",
       "      <th>59430</th>\n",
       "      <td>2021-09-14 06:00:00-07:00</td>\n",
       "      <td>2</td>\n",
       "      <td>0.000000</td>\n",
       "    </tr>\n",
       "    <tr>\n",
       "      <th>29714</th>\n",
       "      <td>2021-09-14 06:00:00-07:00</td>\n",
       "      <td>1</td>\n",
       "      <td>0.019231</td>\n",
       "    </tr>\n",
       "    <tr>\n",
       "      <th>29715</th>\n",
       "      <td>2021-09-14 07:00:00-07:00</td>\n",
       "      <td>1</td>\n",
       "      <td>0.019231</td>\n",
       "    </tr>\n",
       "    <tr>\n",
       "      <th>59431</th>\n",
       "      <td>2021-09-14 07:00:00-07:00</td>\n",
       "      <td>2</td>\n",
       "      <td>0.000000</td>\n",
       "    </tr>\n",
       "  </tbody>\n",
       "</table>\n",
       "<p>59432 rows × 3 columns</p>\n",
       "</div>"
      ],
      "text/plain": [
       "                           Time  siteID  utilization\n",
       "0     2018-04-25 04:00:00-07:00       1     0.000000\n",
       "29716 2018-04-25 04:00:00-07:00       2     0.000000\n",
       "1     2018-04-25 05:00:00-07:00       1     0.000000\n",
       "29717 2018-04-25 05:00:00-07:00       2     0.018182\n",
       "2     2018-04-25 06:00:00-07:00       1     0.000000\n",
       "...                         ...     ...          ...\n",
       "29713 2021-09-14 05:00:00-07:00       1     0.019231\n",
       "59430 2021-09-14 06:00:00-07:00       2     0.000000\n",
       "29714 2021-09-14 06:00:00-07:00       1     0.019231\n",
       "29715 2021-09-14 07:00:00-07:00       1     0.019231\n",
       "59431 2021-09-14 07:00:00-07:00       2     0.000000\n",
       "\n",
       "[59432 rows x 3 columns]"
      ]
     },
     "execution_count": 115,
     "metadata": {},
     "output_type": "execute_result"
    }
   ],
   "source": [
    "#utilization_df enthält für jede Stunde einen Wert für Site1 und einen für Site2\n",
    "utilization_df"
   ]
  },
  {
   "cell_type": "markdown",
   "id": "ae2d40a7",
   "metadata": {},
   "source": [
    "#### Utilization, unabhängig von der Site:"
   ]
  },
  {
   "cell_type": "code",
   "execution_count": 116,
   "id": "93069b8a",
   "metadata": {},
   "outputs": [],
   "source": [
    "def utilization_both_sides(time, df):\n",
    "    charging_sessions = len(df[(df['connectionTime'] <= time) & (time <= df['disconnectTime'])])\n",
    "    \n",
    "    return charging_sessions / 107\n",
    "    \n",
    "def utilization_row_both_sides(row):\n",
    "    return utilization_both_sides(row['Time'], charging_data)\n"
   ]
  },
  {
   "cell_type": "code",
   "execution_count": 117,
   "id": "68e7fcc1",
   "metadata": {},
   "outputs": [],
   "source": [
    "start_time = charging_data['connectionTime'].min().floor(\"H\")\n",
    "end_time = charging_data['disconnectTime'].max().floor(\"H\")\n",
    "\n",
    "date_range = pd.date_range(start=start_time, end=end_time, freq='H').tz_convert('America/Los_Angeles')\n",
    "\n",
    "utilization_both_sides_df = pd.DataFrame(columns=['Time'])\n",
    "\n",
    "utilization_both_sides_df['Time'] = date_range"
   ]
  },
  {
   "cell_type": "code",
   "execution_count": 118,
   "id": "30d3b50f",
   "metadata": {},
   "outputs": [],
   "source": [
    "utilization_both_sides_df['utilization'] = utilization_both_sides_df.apply(utilization_row_both_sides, axis=1)"
   ]
  },
  {
   "cell_type": "code",
   "execution_count": 119,
   "id": "59df240e",
   "metadata": {},
   "outputs": [
    {
     "data": {
      "text/html": [
       "<div>\n",
       "<style scoped>\n",
       "    .dataframe tbody tr th:only-of-type {\n",
       "        vertical-align: middle;\n",
       "    }\n",
       "\n",
       "    .dataframe tbody tr th {\n",
       "        vertical-align: top;\n",
       "    }\n",
       "\n",
       "    .dataframe thead th {\n",
       "        text-align: right;\n",
       "    }\n",
       "</style>\n",
       "<table border=\"1\" class=\"dataframe\">\n",
       "  <thead>\n",
       "    <tr style=\"text-align: right;\">\n",
       "      <th></th>\n",
       "      <th>Time</th>\n",
       "      <th>utilization</th>\n",
       "    </tr>\n",
       "  </thead>\n",
       "  <tbody>\n",
       "    <tr>\n",
       "      <th>0</th>\n",
       "      <td>2018-04-25 04:00:00-07:00</td>\n",
       "      <td>0.000000</td>\n",
       "    </tr>\n",
       "    <tr>\n",
       "      <th>1</th>\n",
       "      <td>2018-04-25 05:00:00-07:00</td>\n",
       "      <td>0.009346</td>\n",
       "    </tr>\n",
       "    <tr>\n",
       "      <th>2</th>\n",
       "      <td>2018-04-25 06:00:00-07:00</td>\n",
       "      <td>0.009346</td>\n",
       "    </tr>\n",
       "    <tr>\n",
       "      <th>3</th>\n",
       "      <td>2018-04-25 07:00:00-07:00</td>\n",
       "      <td>0.018692</td>\n",
       "    </tr>\n",
       "    <tr>\n",
       "      <th>4</th>\n",
       "      <td>2018-04-25 08:00:00-07:00</td>\n",
       "      <td>0.065421</td>\n",
       "    </tr>\n",
       "    <tr>\n",
       "      <th>...</th>\n",
       "      <td>...</td>\n",
       "      <td>...</td>\n",
       "    </tr>\n",
       "    <tr>\n",
       "      <th>29711</th>\n",
       "      <td>2021-09-14 03:00:00-07:00</td>\n",
       "      <td>0.009346</td>\n",
       "    </tr>\n",
       "    <tr>\n",
       "      <th>29712</th>\n",
       "      <td>2021-09-14 04:00:00-07:00</td>\n",
       "      <td>0.009346</td>\n",
       "    </tr>\n",
       "    <tr>\n",
       "      <th>29713</th>\n",
       "      <td>2021-09-14 05:00:00-07:00</td>\n",
       "      <td>0.009346</td>\n",
       "    </tr>\n",
       "    <tr>\n",
       "      <th>29714</th>\n",
       "      <td>2021-09-14 06:00:00-07:00</td>\n",
       "      <td>0.009346</td>\n",
       "    </tr>\n",
       "    <tr>\n",
       "      <th>29715</th>\n",
       "      <td>2021-09-14 07:00:00-07:00</td>\n",
       "      <td>0.009346</td>\n",
       "    </tr>\n",
       "  </tbody>\n",
       "</table>\n",
       "<p>29716 rows × 2 columns</p>\n",
       "</div>"
      ],
      "text/plain": [
       "                           Time  utilization\n",
       "0     2018-04-25 04:00:00-07:00     0.000000\n",
       "1     2018-04-25 05:00:00-07:00     0.009346\n",
       "2     2018-04-25 06:00:00-07:00     0.009346\n",
       "3     2018-04-25 07:00:00-07:00     0.018692\n",
       "4     2018-04-25 08:00:00-07:00     0.065421\n",
       "...                         ...          ...\n",
       "29711 2021-09-14 03:00:00-07:00     0.009346\n",
       "29712 2021-09-14 04:00:00-07:00     0.009346\n",
       "29713 2021-09-14 05:00:00-07:00     0.009346\n",
       "29714 2021-09-14 06:00:00-07:00     0.009346\n",
       "29715 2021-09-14 07:00:00-07:00     0.009346\n",
       "\n",
       "[29716 rows x 2 columns]"
      ]
     },
     "execution_count": 119,
     "metadata": {},
     "output_type": "execute_result"
    }
   ],
   "source": [
    "utilization_both_sides_df"
   ]
  },
  {
   "cell_type": "code",
   "execution_count": 120,
   "id": "ef70756d",
   "metadata": {},
   "outputs": [
    {
     "data": {
      "text/plain": [
       "count    29716.000000\n",
       "mean         0.128538\n",
       "std          0.205402\n",
       "min          0.000000\n",
       "25%          0.009346\n",
       "50%          0.037383\n",
       "75%          0.130841\n",
       "max          0.934579\n",
       "Name: utilization, dtype: float64"
      ]
     },
     "execution_count": 120,
     "metadata": {},
     "output_type": "execute_result"
    }
   ],
   "source": [
    "utilization_both_sides_df['utilization'].describe()"
   ]
  },
  {
   "cell_type": "code",
   "execution_count": 121,
   "id": "3bd60e65",
   "metadata": {},
   "outputs": [
    {
     "data": {
      "image/png": "[encoded data removed]",
      "text/plain": [
       "<Figure size 1200x600 with 1 Axes>"
      ]
     },
     "metadata": {},
     "output_type": "display_data"
    }
   ],
   "source": [
    "import matplotlib.pyplot as plt\n",
    "\n",
    "plt.figure(figsize=(12, 6))\n",
    "plt.plot(utilization_site1_df['Time'], utilization_both_sides_df['utilization'], label='Utilization')\n",
    "plt.xlabel('Time')\n",
    "plt.ylabel('Utilization')\n",
    "plt.title('Utilization Over Time')\n",
    "plt.legend()\n",
    "plt.show()"
   ]
  },
  {
   "cell_type": "markdown",
   "id": "bc27a52b",
   "metadata": {},
   "source": [
    "#### Visualisierung für einen bestimmten Tag"
   ]
  },
  {
   "cell_type": "code",
   "execution_count": 122,
   "id": "4b50797e",
   "metadata": {},
   "outputs": [
    {
     "data": {
      "image/png": "[encoded data removed]",
      "text/plain": [
       "<Figure size 1200x600 with 1 Axes>"
      ]
     },
     "metadata": {},
     "output_type": "display_data"
    }
   ],
   "source": [
    "summer_weekday = pd.Timestamp('2019-07-31')\n",
    "\n",
    "selected_day_data = utilization_both_sides_df[utilization_both_sides_df['Time'].dt.date == summer_weekday.date()]\n",
    "\n",
    "# Linienplot erstellen\n",
    "plt.figure(figsize=(12, 6))\n",
    "plt.plot(selected_day_data['Time'], selected_day_data['utilization'], label='Utilization')\n",
    "plt.xlabel('Uhrzeit')\n",
    "plt.ylabel('Utilization')\n",
    "plt.title(f'Utilization am {summer_weekday}')\n",
    "plt.legend()\n",
    "plt.show()\n"
   ]
  },
  {
   "cell_type": "markdown",
   "id": "32ecafae",
   "metadata": {},
   "source": [
    "## KPI: Utilization Effectiveness"
   ]
  },
  {
   "cell_type": "code",
   "execution_count": 123,
   "id": "7d851948",
   "metadata": {},
   "outputs": [],
   "source": [
    "def plugged_in(time, df):\n",
    "    return df[(df['connectionTime'] <= time) & (time <= df['disconnectTime'])]\n",
    "\n",
    "def active_charges(time, df):\n",
    "    return df[(df['connectionTime'] <= time) & (time <= df['doneChargingTime'])]\n",
    "\n",
    "def utilization_at_time(time, df):\n",
    "    plugged_in_count = len(plugged_in(time, df))\n",
    "    active_charges_count = len(active_charges(time, df))\n",
    "\n",
    "    if plugged_in_count == 0:\n",
    "        return 0  # Avoid division by zero\n",
    "    else:\n",
    "        return (active_charges_count / plugged_in_count) * 100\n",
    "    \n",
    "def utilization_effectiveness(row):\n",
    "    return utilization_at_time(row['Time'], charging_data)"
   ]
  },
  {
   "cell_type": "code",
   "execution_count": 124,
   "id": "9aec768d",
   "metadata": {},
   "outputs": [],
   "source": [
    "start_time = charging_data['connectionTime'].min().floor(\"H\")\n",
    "end_time = charging_data['disconnectTime'].max().floor(\"H\")\n",
    "\n",
    "date_range = pd.date_range(start=start_time, end=end_time, freq='H').tz_convert('America/Los_Angeles')\n",
    "\n",
    "utilization_effectiveness_df = pd.DataFrame(columns=['Time'])\n",
    "\n",
    "utilization_effectiveness_df['Time'] = date_range"
   ]
  },
  {
   "cell_type": "code",
   "execution_count": 125,
   "id": "1513e58d",
   "metadata": {},
   "outputs": [],
   "source": [
    "utilization_effectiveness_df['Utilization Effectiveness'] = utilization_effectiveness_df.apply(utilization_effectiveness, axis=1)"
   ]
  },
  {
   "cell_type": "code",
   "execution_count": 126,
   "id": "ca3838b4",
   "metadata": {},
   "outputs": [
    {
     "data": {
      "text/html": [
       "<div>\n",
       "<style scoped>\n",
       "    .dataframe tbody tr th:only-of-type {\n",
       "        vertical-align: middle;\n",
       "    }\n",
       "\n",
       "    .dataframe tbody tr th {\n",
       "        vertical-align: top;\n",
       "    }\n",
       "\n",
       "    .dataframe thead th {\n",
       "        text-align: right;\n",
       "    }\n",
       "</style>\n",
       "<table border=\"1\" class=\"dataframe\">\n",
       "  <thead>\n",
       "    <tr style=\"text-align: right;\">\n",
       "      <th></th>\n",
       "      <th>Time</th>\n",
       "      <th>Utilization Effectiveness</th>\n",
       "    </tr>\n",
       "  </thead>\n",
       "  <tbody>\n",
       "    <tr>\n",
       "      <th>0</th>\n",
       "      <td>2018-04-25 04:00:00-07:00</td>\n",
       "      <td>0.000000</td>\n",
       "    </tr>\n",
       "    <tr>\n",
       "      <th>1</th>\n",
       "      <td>2018-04-25 05:00:00-07:00</td>\n",
       "      <td>100.000000</td>\n",
       "    </tr>\n",
       "    <tr>\n",
       "      <th>2</th>\n",
       "      <td>2018-04-25 06:00:00-07:00</td>\n",
       "      <td>100.000000</td>\n",
       "    </tr>\n",
       "    <tr>\n",
       "      <th>3</th>\n",
       "      <td>2018-04-25 07:00:00-07:00</td>\n",
       "      <td>100.000000</td>\n",
       "    </tr>\n",
       "    <tr>\n",
       "      <th>4</th>\n",
       "      <td>2018-04-25 08:00:00-07:00</td>\n",
       "      <td>85.714286</td>\n",
       "    </tr>\n",
       "    <tr>\n",
       "      <th>...</th>\n",
       "      <td>...</td>\n",
       "      <td>...</td>\n",
       "    </tr>\n",
       "    <tr>\n",
       "      <th>29711</th>\n",
       "      <td>2021-09-14 03:00:00-07:00</td>\n",
       "      <td>100.000000</td>\n",
       "    </tr>\n",
       "    <tr>\n",
       "      <th>29712</th>\n",
       "      <td>2021-09-14 04:00:00-07:00</td>\n",
       "      <td>100.000000</td>\n",
       "    </tr>\n",
       "    <tr>\n",
       "      <th>29713</th>\n",
       "      <td>2021-09-14 05:00:00-07:00</td>\n",
       "      <td>100.000000</td>\n",
       "    </tr>\n",
       "    <tr>\n",
       "      <th>29714</th>\n",
       "      <td>2021-09-14 06:00:00-07:00</td>\n",
       "      <td>100.000000</td>\n",
       "    </tr>\n",
       "    <tr>\n",
       "      <th>29715</th>\n",
       "      <td>2021-09-14 07:00:00-07:00</td>\n",
       "      <td>100.000000</td>\n",
       "    </tr>\n",
       "  </tbody>\n",
       "</table>\n",
       "<p>29716 rows × 2 columns</p>\n",
       "</div>"
      ],
      "text/plain": [
       "                           Time  Utilization Effectiveness\n",
       "0     2018-04-25 04:00:00-07:00                   0.000000\n",
       "1     2018-04-25 05:00:00-07:00                 100.000000\n",
       "2     2018-04-25 06:00:00-07:00                 100.000000\n",
       "3     2018-04-25 07:00:00-07:00                 100.000000\n",
       "4     2018-04-25 08:00:00-07:00                  85.714286\n",
       "...                         ...                        ...\n",
       "29711 2021-09-14 03:00:00-07:00                 100.000000\n",
       "29712 2021-09-14 04:00:00-07:00                 100.000000\n",
       "29713 2021-09-14 05:00:00-07:00                 100.000000\n",
       "29714 2021-09-14 06:00:00-07:00                 100.000000\n",
       "29715 2021-09-14 07:00:00-07:00                 100.000000\n",
       "\n",
       "[29716 rows x 2 columns]"
      ]
     },
     "execution_count": 126,
     "metadata": {},
     "output_type": "execute_result"
    }
   ],
   "source": [
    "utilization_effectiveness_df"
   ]
  },
  {
   "cell_type": "code",
   "execution_count": 127,
   "id": "b75515f9",
   "metadata": {},
   "outputs": [
    {
     "data": {
      "image/png": "[encoded data removed]",
      "text/plain": [
       "<Figure size 1200x600 with 1 Axes>"
      ]
     },
     "metadata": {},
     "output_type": "display_data"
    }
   ],
   "source": [
    "plt.figure(figsize=(12, 6))\n",
    "plt.plot(utilization_site1_df['Time'], utilization_effectiveness_df['Utilization Effectiveness'], label='Utilization Effectiveness')\n",
    "plt.xlabel('Time')\n",
    "plt.ylabel('Utilization Effectiveness %')\n",
    "plt.title('Utilization Effectiveness (%) Over Time')\n",
    "plt.legend()\n",
    "plt.show()"
   ]
  },
  {
   "cell_type": "markdown",
   "id": "40d5a9e1",
   "metadata": {},
   "source": [
    "#### Visualisierung für einen bestimmten Tag"
   ]
  },
  {
   "cell_type": "code",
   "execution_count": 128,
   "id": "451bec17",
   "metadata": {},
   "outputs": [
    {
     "data": {
      "image/png": "[encoded data removed]",
      "text/plain": [
       "<Figure size 1200x600 with 1 Axes>"
      ]
     },
     "metadata": {},
     "output_type": "display_data"
    }
   ],
   "source": [
    "summer_weekday = pd.Timestamp('2019-07-31')\n",
    "\n",
    "selected_day_data = utilization_effectiveness_df[utilization_effectiveness_df['Time'].dt.date == summer_weekday.date()]\n",
    "\n",
    "# Linienplot erstellen\n",
    "plt.figure(figsize=(12, 6))\n",
    "plt.plot(selected_day_data['Time'], selected_day_data['Utilization Effectiveness'], label='Utilization Effectiveness')\n",
    "plt.xlabel('Uhrzeit')\n",
    "plt.ylabel('Utilization Effectiveness %')\n",
    "plt.title(f'Utilization Effectiveness (%) am {summer_weekday}')\n",
    "plt.legend()\n",
    "plt.show()\n"
   ]
  },
  {
   "cell_type": "code",
   "execution_count": null,
   "id": "295cd5e8",
   "metadata": {},
   "outputs": [],
   "source": []
  }
 ],
 "metadata": {
  "kernelspec": {
   "display_name": "Python 3 (ipykernel)",
   "language": "python",
   "name": "python3"
  },
  "language_info": {
   "codemirror_mode": {
    "name": "ipython",
    "version": 3
   },
   "file_extension": ".py",
   "mimetype": "text/x-python",
   "name": "python",
   "nbconvert_exporter": "python",
   "pygments_lexer": "ipython3",
   "version": "3.11.5"
  }
 },
 "nbformat": 4,
 "nbformat_minor": 5
}
